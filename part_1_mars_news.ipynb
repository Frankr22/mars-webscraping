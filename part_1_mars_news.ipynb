{
 "cells": [
  {
   "cell_type": "markdown",
   "metadata": {},
   "source": [
    "# Module 12 Challenge\n",
    "## Deliverable 1: Scrape Titles and Preview Text from Mars News"
   ]
  },
  {
   "cell_type": "code",
   "execution_count": 1,
   "metadata": {},
   "outputs": [],
   "source": [
    "# Import Splinter and BeautifulSoup\n",
    "from splinter import Browser\n",
    "from bs4 import BeautifulSoup as soup\n",
    "from webdriver_manager.chrome import ChromeDriverManager\n",
    "from pprint import pprint\n",
    "import json\n",
    "from pymongo import MongoClient"
   ]
  },
  {
   "cell_type": "code",
   "execution_count": 2,
   "metadata": {
    "scrolled": true
   },
   "outputs": [],
   "source": [
    "executable_path = {'executable_path': ChromeDriverManager().install()}\n",
    "browser = Browser('chrome', **executable_path, headless=False)"
   ]
  },
  {
   "cell_type": "markdown",
   "metadata": {},
   "source": [
    "### Step 1: Visit the Website\n",
    "\n",
    "1. Use automated browsing to visit the [Mars NASA news site](https://redplanetscience.com). Inspect the page to identify which elements to scrape.\n",
    "\n",
    "      > **Hint** To identify which elements to scrape, you might want to inspect the page by using Chrome DevTools."
   ]
  },
  {
   "cell_type": "code",
   "execution_count": 3,
   "metadata": {},
   "outputs": [],
   "source": [
    "# Visit the Mars NASA news site: https://redplanetscience.com\n",
    "url = \"https://redplanetscience.com\"\n",
    "browser.visit(url)"
   ]
  },
  {
   "cell_type": "markdown",
   "metadata": {},
   "source": [
    "### Step 2: Scrape the Website\n",
    "\n",
    "Create a Beautiful Soup object and use it to extract text elements from the website."
   ]
  },
  {
   "cell_type": "code",
   "execution_count": 4,
   "metadata": {},
   "outputs": [],
   "source": [
    "# Create a Beautiful Soup object\n",
    "html = browser.html\n",
    "page_soup = soup(html, 'html.parser')"
   ]
  },
  {
   "cell_type": "code",
   "execution_count": 5,
   "metadata": {},
   "outputs": [],
   "source": [
    "# Extract all the text elements\n",
    "articles = page_soup.find_all('div', class_='list_text')"
   ]
  },
  {
   "cell_type": "markdown",
   "metadata": {},
   "source": [
    "### Step 3: Store the Results\n",
    "\n",
    "Extract the titles and preview text of the news articles that you scraped. Store the scraping results in Python data structures as follows:\n",
    "\n",
    "* Store each title-and-preview pair in a Python dictionary. And, give each dictionary two keys: `title` and `preview`. An example is the following:\n",
    "\n",
    "  ```python\n",
    "  {'title': \"Mars Rover Begins Mission!\", \n",
    "        'preview': \"NASA's Mars Rover begins a multiyear mission to collect data about the little-explored planet.\"}\n",
    "  ```\n",
    "\n",
    "* Store all the dictionaries in a Python list.\n",
    "\n",
    "* Print the list in your notebook."
   ]
  },
  {
   "cell_type": "code",
   "execution_count": 6,
   "metadata": {},
   "outputs": [],
   "source": [
    "# Create an empty list to store the dictionaries\n",
    "news_data = []"
   ]
  },
  {
   "cell_type": "code",
   "execution_count": 7,
   "metadata": {},
   "outputs": [],
   "source": [
    "# Loop through the text elements\n",
    "# Extract the title and preview text from the elements\n",
    "# Store each title and preview pair in a dictionary\n",
    "# Add the dictionary to the list\n",
    "for article in articles:\n",
    "    # Extract the title\n",
    "    title = article.find('div', class_='content_title').text\n",
    "    # Extract the preview text\n",
    "    preview = article.find('div', class_='article_teaser_body').text\n",
    "    # Create a dictionary to store the title and preview\n",
    "    article_data = {'title': title, 'preview': preview}\n",
    "    # Append the dictionary to the list\n",
    "    news_data.append(article_data)"
   ]
  },
  {
   "cell_type": "code",
   "execution_count": 8,
   "metadata": {},
   "outputs": [
    {
     "name": "stdout",
     "output_type": "stream",
     "text": [
      "[{'preview': \"The clean room at NASA's Jet Propulsion Laboratory was open to \"\n",
      "             \"the media to see NASA's next Mars explorer before it leaves for \"\n",
      "             'Florida in preparation for a summertime launch.',\n",
      "  'title': \"Media Get a Close-Up of NASA's Mars 2020 Rover\"},\n",
      " {'preview': \"Learn more about the agency's next Red Planet mission during a \"\n",
      "             'live event on June 17.',\n",
      "  'title': 'NASA to Hold Mars 2020 Perseverance Rover Launch Briefing'},\n",
      " {'preview': \"The first to be rigged with microphones, the agency's latest \"\n",
      "             'Mars rover picked up the subtle sounds of its own inner workings '\n",
      "             'during interplanetary flight.',\n",
      "  'title': \"Hear Audio From NASA's Perseverance As It Travels Through Deep \"\n",
      "           'Space'},\n",
      " {'preview': 'With the Mars 2020 mission ramping up, the documentary — the '\n",
      "             'first of four about past JPL missions to the Red Planet to be '\n",
      "             'shown at Caltech — tells a gripping backstory.',\n",
      "  'title': \"Screening Soon: 'The Pathfinders' Trains Lens on Mars\"},\n",
      " {'preview': 'Five years after NASA’s MAVEN spacecraft entered into orbit '\n",
      "             'around Mars, data from the mission has led to the creation of a '\n",
      "             'map of electric current systems in the Martian atmosphere.',\n",
      "  'title': 'MAVEN Maps Electric Currents around Mars that are Fundamental to '\n",
      "           'Atmospheric Loss'},\n",
      " {'preview': 'The mission team performed a crucial weight-balancing test on '\n",
      "             \"the rover in preparation for this summer's history-making launch \"\n",
      "             'to the Red Planet.',\n",
      "  'title': \"NASA's Perseverance Mars Rover Gets Balanced\"},\n",
      " {'preview': 'The helicopter will be first aircraft to perform flight tests on '\n",
      "             'another planet.',\n",
      "  'title': \"NASA's Mars Helicopter Attached to Mars 2020 Rover \"},\n",
      " {'preview': 'A NASA Wallops Flight Facility cargo plane transported more than '\n",
      "             \"two tons of equipment — including the rover's sample collection \"\n",
      "             \"tubes — to Florida for this summer's liftoff.\",\n",
      "  'title': \"Air Deliveries Bring NASA's Perseverance Mars Rover Closer to \"\n",
      "           'Launch'},\n",
      " {'preview': 'Efforts to save the heat probe continue.',\n",
      "  'title': \"InSight's 'Mole' Team Peers into the Pit\"},\n",
      " {'preview': 'The Mars rover has drilled three samples of rock in this '\n",
      "             'clay-enriched region since arriving in July.',\n",
      "  'title': \"NASA's Curiosity Takes Selfie With 'Mary Anning' on the Red \"\n",
      "           'Planet'},\n",
      " {'preview': 'NASA spacecraft at Mars are going to be on their own for a few '\n",
      "             'weeks when the Sun comes between Mars and Earth, interrupting '\n",
      "             'communications.',\n",
      "  'title': \"What's Mars Solar Conjunction, and Why Does It Matter?\"},\n",
      " {'preview': \"Mark your calendars: The agency's latest rover has only about \"\n",
      "             '8,640,000 seconds to go before it touches down on the Red '\n",
      "             \"Planet, becoming history's next Mars car.\",\n",
      "  'title': \"NASA's Perseverance Rover 100 Days Out\"},\n",
      " {'preview': 'Using an online tool to label Martian terrain types, you can '\n",
      "             'train an artificial intelligence algorithm that could improve '\n",
      "             'the way engineers guide the Curiosity rover.',\n",
      "  'title': \"NASA's Mars Rover Drivers Need Your Help\"},\n",
      " {'preview': 'Researchers have created the first map of wind circulation in '\n",
      "             'the upper atmosphere of a planet besides Earth, using data from '\n",
      "             'NASA’s MAVEN spacecraft that were collected during the last two '\n",
      "             'years.',\n",
      "  'title': \"NASA's MAVEN Maps Winds in the Martian Upper Atmosphere that \"\n",
      "           'Mirror the Terrain Below and Gives Clues to Martian Climate'},\n",
      " {'preview': \"\\u200bThe agency's Mars 2020 mission has one more big prelaunch \"\n",
      "             'review – the Launch Readiness Review, on July 27.',\n",
      "  'title': \"NASA's Mars Perseverance Rover Passes Flight Readiness Review\"}]\n"
     ]
    }
   ],
   "source": [
    "# Print the list to confirm success\n",
    "pprint(news_data)"
   ]
  },
  {
   "cell_type": "code",
   "execution_count": 9,
   "metadata": {},
   "outputs": [],
   "source": [
    "browser.quit()"
   ]
  },
  {
   "cell_type": "markdown",
   "metadata": {},
   "source": [
    "### (Optional) Step 4: Export the Data\n",
    "\n",
    "Optionally, store the scraped data in a file or database (to ease sharing the data with others). To do so, export the scraped data to either a JSON file or a MongoDB database."
   ]
  },
  {
   "cell_type": "code",
   "execution_count": 10,
   "metadata": {},
   "outputs": [],
   "source": [
    "# Export data to JSON\n",
    "with open('news_data.json', 'w') as outfile:\n",
    "    json.dump(news_data, outfile)"
   ]
  },
  {
   "cell_type": "code",
   "execution_count": 11,
   "metadata": {},
   "outputs": [
    {
     "name": "stdout",
     "output_type": "stream",
     "text": [
      "15\n"
     ]
    }
   ],
   "source": [
    "# Export data to MongoDB\n",
    "# Connect to a MongoDB database\n",
    "client = MongoClient()\n",
    "db = client.mars_news\n",
    "\n",
    "# Insert the scraped data into the database\n",
    "db.news_articles.insert_many(news_data)\n",
    "\n",
    "# Confirm that the data has been inserted\n",
    "print(db.news_articles.count_documents({}))"
   ]
  }
 ],
 "metadata": {
  "kernelspec": {
   "display_name": "Python 3 (ipykernel)",
   "language": "python",
   "name": "python3"
  },
  "language_info": {
   "codemirror_mode": {
    "name": "ipython",
    "version": 3
   },
   "file_extension": ".py",
   "mimetype": "text/x-python",
   "name": "python",
   "nbconvert_exporter": "python",
   "pygments_lexer": "ipython3",
   "version": "3.7.7"
  }
 },
 "nbformat": 4,
 "nbformat_minor": 4
}
